{
 "cells": [
  {
   "cell_type": "markdown",
   "metadata": {
    "class": "fill"
   },
   "source": [
    "# STA 141B: Homework 5\n",
    "Winter 2018"
   ]
  },
  {
   "cell_type": "markdown",
   "metadata": {
    "class": "fill"
   },
   "source": [
    "## Student Information\n",
    "\n",
    "After the colons (in the same line) please write just your first name, last name, and the 9 digit student ID number below.\n",
    "\n",
    "First Name:\n",
    "\n",
    "Last Name: \n",
    "\n",
    "Student ID: "
   ]
  },
  {
   "cell_type": "markdown",
   "metadata": {
    "class": "fill"
   },
   "source": [
    "## Instructions\n",
    "\n",
    "We use a script that extracts your answers by looking for cells in between the cells containing the exercise statements.  So you \n",
    "\n",
    "- MUST add cells in between the exercise statements and add answers within them and\n",
    "- MUST NOT modify the existing cells, particularly not the problem statement\n",
    "\n",
    "To make markdown, please switch the cell type to markdown (from code) - you can hit 'm' when you are in command mode - and use the markdown language.  For a brief tutorial see: https://daringfireball.net/projects/markdown/syntax"
   ]
  },
  {
   "cell_type": "markdown",
   "metadata": {
    "class": "fill"
   },
   "source": [
    "# Housing data\n",
    "\n",
    "In this assignment, you'll analyze a collection of data sets from the [San Francisco Open Data Portal](http://data.sfgov.org/) and [Zillow](https://www.zillow.com/). The data sets have been stored in the SQLite database `sf_data.sqlite`, which you can [download here](http://anson.ucdavis.edu/~nulle/sf_data.sqlite). The database contains the following tables:\n",
    "\n",
    "Table                   | Description\n",
    "----------------------- | -----------\n",
    "`crime`                 | Crime reports dating back to 2010.\n",
    "`mobile_food_locations` | List of all locations where mobile food vendors sell.\n",
    "`mobile_food_permits`   | List of all mobile food vendor permits. More details [here](https://data.sfgov.org/api/views/rqzj-sfat/files/8g2f5RV4PEk0_b24iJEtgEet9gnh_eA27GlqoOjjK4k?download=true&filename=DPW_DataDictionary_Mobile-Food-Facility-Permit.pdf).\n",
    "`mobile_food_schedule`  | Schedules for mobile food vendors.\n",
    "`noise`                 | Noise complaints dating back to August 2015.\n",
    "`parking`               | List of all parking lots.\n",
    "`parks`                 | List of all parks.\n",
    "`schools`               | List of all schools.\n",
    "`zillow`                | Zillow rent and housing statistics dating back to 1996. More details [here](https://www.zillow.com/research/data/).\n",
    "\n",
    "The `mobile_food_` tables are explicitly connected through the `locationid` and `permit` columns. The other tables are not connected, but you may be able to connect them using dates, latitude/longitude, or postal codes.\n",
    "\n",
    "Shapefiles for US postal codes are available [here](https://www.census.gov/geo/maps-data/data/cbf/cbf_zcta.html). These may be useful for converting latitude/longitude to postal codes.\n",
    "\n",
    "Shapefiles for San Francisco Neighborhoods are available [here](https://data.sfgov.org/Geographic-Locations-and-Boundaries/SF-Find-Neighborhoods/pty2-tcw4)."
   ]
  },
  {
   "cell_type": "markdown",
   "metadata": {
    "class": "ex",
    "exercise": "1.1",
    "points": "20"
   },
   "source": [
    "__Exercise 1.1.__ (20 pts) Which mobile food vendor(s) sells at the most locations?"
   ]
  },
  {
   "cell_type": "code",
   "execution_count": 26,
   "metadata": {},
   "outputs": [
    {
     "data": {
      "text/html": [
       "<div>\n",
       "<style scoped>\n",
       "    .dataframe tbody tr th:only-of-type {\n",
       "        vertical-align: middle;\n",
       "    }\n",
       "\n",
       "    .dataframe tbody tr th {\n",
       "        vertical-align: top;\n",
       "    }\n",
       "\n",
       "    .dataframe thead th {\n",
       "        text-align: right;\n",
       "    }\n",
       "</style>\n",
       "<table border=\"1\" class=\"dataframe\">\n",
       "  <thead>\n",
       "    <tr style=\"text-align: right;\">\n",
       "      <th></th>\n",
       "      <th>locationid</th>\n",
       "      <th>LocationDescription</th>\n",
       "      <th>Address</th>\n",
       "      <th>Latitude</th>\n",
       "      <th>Longitude</th>\n",
       "    </tr>\n",
       "  </thead>\n",
       "  <tbody>\n",
       "    <tr>\n",
       "      <th>0</th>\n",
       "      <td>762182</td>\n",
       "      <td>TOWNSEND ST: 05TH ST to 06TH ST (400 - 499)</td>\n",
       "      <td>444 TOWNSEND ST</td>\n",
       "      <td>37.774871</td>\n",
       "      <td>-122.398532</td>\n",
       "    </tr>\n",
       "    <tr>\n",
       "      <th>1</th>\n",
       "      <td>437211</td>\n",
       "      <td>MISSOURI ST: 20TH ST to SIERRA ST (500 - 630)</td>\n",
       "      <td>555 MISSOURI ST</td>\n",
       "      <td>37.759304</td>\n",
       "      <td>-122.395902</td>\n",
       "    </tr>\n",
       "    <tr>\n",
       "      <th>2</th>\n",
       "      <td>765880</td>\n",
       "      <td>17TH ST: SAN BRUNO AVE to UTAH ST (2200 - 2299)</td>\n",
       "      <td>2222 17TH ST</td>\n",
       "      <td>37.765216</td>\n",
       "      <td>-122.406007</td>\n",
       "    </tr>\n",
       "    <tr>\n",
       "      <th>3</th>\n",
       "      <td>765690</td>\n",
       "      <td>CESAR CHAVEZ ST: EVANS AVE to KANSAS ST (2100 ...</td>\n",
       "      <td>2323 CESAR CHAVEZ ST</td>\n",
       "      <td>37.748801</td>\n",
       "      <td>-122.400552</td>\n",
       "    </tr>\n",
       "    <tr>\n",
       "      <th>4</th>\n",
       "      <td>751253</td>\n",
       "      <td>FOLSOM ST: 14TH ST to 15TH ST (1800 - 1899)</td>\n",
       "      <td>1800 FOLSOM ST</td>\n",
       "      <td>37.767852</td>\n",
       "      <td>-122.416105</td>\n",
       "    </tr>\n",
       "  </tbody>\n",
       "</table>\n",
       "</div>"
      ],
      "text/plain": [
       "   locationid                                LocationDescription  \\\n",
       "0      762182        TOWNSEND ST: 05TH ST to 06TH ST (400 - 499)   \n",
       "1      437211      MISSOURI ST: 20TH ST to SIERRA ST (500 - 630)   \n",
       "2      765880    17TH ST: SAN BRUNO AVE to UTAH ST (2200 - 2299)   \n",
       "3      765690  CESAR CHAVEZ ST: EVANS AVE to KANSAS ST (2100 ...   \n",
       "4      751253        FOLSOM ST: 14TH ST to 15TH ST (1800 - 1899)   \n",
       "\n",
       "                Address   Latitude   Longitude  \n",
       "0       444 TOWNSEND ST  37.774871 -122.398532  \n",
       "1       555 MISSOURI ST  37.759304 -122.395902  \n",
       "2          2222 17TH ST  37.765216 -122.406007  \n",
       "3  2323 CESAR CHAVEZ ST  37.748801 -122.400552  \n",
       "4        1800 FOLSOM ST  37.767852 -122.416105  "
      ]
     },
     "execution_count": 26,
     "metadata": {},
     "output_type": "execute_result"
    }
   ],
   "source": [
    "import pandas as pd\n",
    "import sqlite3\n",
    "\n",
    "conn3 = sqlite3.connect(\"sf_data.sqlite\")\n",
    "#c = conn3.cursor()\n",
    "mobile_food_latitude = pd.read_sql_query('select * from mobile_food_locations where Longitude', conn3)\n",
    "#select the Longtitude data from mobile_food_locations\n",
    "mobile_food_latitude.head()\n",
    "\n",
    "\n",
    "#c.execute(\"PRAGMA table_info('mobile_food_locations')\")\n",
    "#c.execute(\"PRAGMA table_info('mobile_food_permits')\")"
   ]
  },
  {
   "cell_type": "code",
   "execution_count": 27,
   "metadata": {},
   "outputs": [
    {
     "data": {
      "text/html": [
       "<div>\n",
       "<style scoped>\n",
       "    .dataframe tbody tr th:only-of-type {\n",
       "        vertical-align: middle;\n",
       "    }\n",
       "\n",
       "    .dataframe tbody tr th {\n",
       "        vertical-align: top;\n",
       "    }\n",
       "\n",
       "    .dataframe thead th {\n",
       "        text-align: right;\n",
       "    }\n",
       "</style>\n",
       "<table border=\"1\" class=\"dataframe\">\n",
       "  <thead>\n",
       "    <tr style=\"text-align: right;\">\n",
       "      <th></th>\n",
       "      <th>permit</th>\n",
       "      <th>Status</th>\n",
       "      <th>Applicant</th>\n",
       "      <th>FacilityType</th>\n",
       "      <th>FoodItems</th>\n",
       "      <th>PriorPermit</th>\n",
       "      <th>Approved</th>\n",
       "      <th>Expiration</th>\n",
       "    </tr>\n",
       "  </thead>\n",
       "  <tbody>\n",
       "    <tr>\n",
       "      <th>0</th>\n",
       "      <td>16MFF-0027</td>\n",
       "      <td>APPROVED</td>\n",
       "      <td>F &amp; C Catering</td>\n",
       "      <td>Truck</td>\n",
       "      <td>Cold Truck: Hot/Cold Sandwiches: Water: Soda: ...</td>\n",
       "      <td>1</td>\n",
       "      <td>2016-03-09 12:00:00</td>\n",
       "      <td>2017-03-15 12:00:00</td>\n",
       "    </tr>\n",
       "    <tr>\n",
       "      <th>1</th>\n",
       "      <td>13MFF-0102</td>\n",
       "      <td>EXPIRED</td>\n",
       "      <td>Natan's Catering</td>\n",
       "      <td>Truck</td>\n",
       "      <td>Burgers: melts: hot dogs: burritos:sandwiches:...</td>\n",
       "      <td>1</td>\n",
       "      <td>2013-04-12 12:00:00</td>\n",
       "      <td>2014-03-15 12:00:00</td>\n",
       "    </tr>\n",
       "    <tr>\n",
       "      <th>2</th>\n",
       "      <td>16MFF-0069</td>\n",
       "      <td>APPROVED</td>\n",
       "      <td>Munch A Bunch</td>\n",
       "      <td>Truck</td>\n",
       "      <td>Cold Truck: packaged sandwiches: pitas: breakf...</td>\n",
       "      <td>1</td>\n",
       "      <td>2016-03-15 12:00:00</td>\n",
       "      <td>2017-03-15 12:00:00</td>\n",
       "    </tr>\n",
       "    <tr>\n",
       "      <th>3</th>\n",
       "      <td>16MFF-0051</td>\n",
       "      <td>APPROVED</td>\n",
       "      <td>Park's Catering</td>\n",
       "      <td>Truck</td>\n",
       "      <td>Cold Truck: Hamburger: cheeseburgers: hot dogs...</td>\n",
       "      <td>1</td>\n",
       "      <td>2016-03-15 12:00:00</td>\n",
       "      <td>2017-03-15 12:00:00</td>\n",
       "    </tr>\n",
       "    <tr>\n",
       "      <th>4</th>\n",
       "      <td>16MFF-0010</td>\n",
       "      <td>REQUESTED</td>\n",
       "      <td>Pipo's Grill</td>\n",
       "      <td>Truck</td>\n",
       "      <td>Tacos: Burritos: Hot Dogs: and Hamburgers</td>\n",
       "      <td>0</td>\n",
       "      <td>None</td>\n",
       "      <td>None</td>\n",
       "    </tr>\n",
       "  </tbody>\n",
       "</table>\n",
       "</div>"
      ],
      "text/plain": [
       "       permit     Status         Applicant FacilityType  \\\n",
       "0  16MFF-0027   APPROVED    F & C Catering        Truck   \n",
       "1  13MFF-0102    EXPIRED  Natan's Catering        Truck   \n",
       "2  16MFF-0069   APPROVED     Munch A Bunch        Truck   \n",
       "3  16MFF-0051   APPROVED   Park's Catering        Truck   \n",
       "4  16MFF-0010  REQUESTED      Pipo's Grill        Truck   \n",
       "\n",
       "                                           FoodItems  PriorPermit  \\\n",
       "0  Cold Truck: Hot/Cold Sandwiches: Water: Soda: ...            1   \n",
       "1  Burgers: melts: hot dogs: burritos:sandwiches:...            1   \n",
       "2  Cold Truck: packaged sandwiches: pitas: breakf...            1   \n",
       "3  Cold Truck: Hamburger: cheeseburgers: hot dogs...            1   \n",
       "4          Tacos: Burritos: Hot Dogs: and Hamburgers            0   \n",
       "\n",
       "              Approved           Expiration  \n",
       "0  2016-03-09 12:00:00  2017-03-15 12:00:00  \n",
       "1  2013-04-12 12:00:00  2014-03-15 12:00:00  \n",
       "2  2016-03-15 12:00:00  2017-03-15 12:00:00  \n",
       "3  2016-03-15 12:00:00  2017-03-15 12:00:00  \n",
       "4                 None                 None  "
      ]
     },
     "execution_count": 27,
     "metadata": {},
     "output_type": "execute_result"
    }
   ],
   "source": [
    "mobile_food_permits = pd.read_sql_query('select * from mobile_food_permits', conn3)\n",
    "#select the data from mobile_food_permits\n",
    "mobile_food_permits.head()"
   ]
  },
  {
   "cell_type": "code",
   "execution_count": 35,
   "metadata": {},
   "outputs": [
    {
     "ename": "DatabaseError",
     "evalue": "Execution failed on sql ' \nselect permit, Applicant, \ncount(\"Applicant\") as 'Num of Locations' from mobile_food_permits, \norder by count(\"Applicant\") desc\n': near \"order\": syntax error",
     "output_type": "error",
     "traceback": [
      "\u001b[0;31m---------------------------------------------------------------------------\u001b[0m",
      "\u001b[0;31mOperationalError\u001b[0m                          Traceback (most recent call last)",
      "\u001b[0;32m/Library/Frameworks/Python.framework/Versions/3.6/lib/python3.6/site-packages/pandas/io/sql.py\u001b[0m in \u001b[0;36mexecute\u001b[0;34m(self, *args, **kwargs)\u001b[0m\n\u001b[1;32m   1408\u001b[0m             \u001b[0;32melse\u001b[0m\u001b[0;34m:\u001b[0m\u001b[0;34m\u001b[0m\u001b[0m\n\u001b[0;32m-> 1409\u001b[0;31m                 \u001b[0mcur\u001b[0m\u001b[0;34m.\u001b[0m\u001b[0mexecute\u001b[0m\u001b[0;34m(\u001b[0m\u001b[0;34m*\u001b[0m\u001b[0margs\u001b[0m\u001b[0;34m)\u001b[0m\u001b[0;34m\u001b[0m\u001b[0m\n\u001b[0m\u001b[1;32m   1410\u001b[0m             \u001b[0;32mreturn\u001b[0m \u001b[0mcur\u001b[0m\u001b[0;34m\u001b[0m\u001b[0m\n",
      "\u001b[0;31mOperationalError\u001b[0m: near \"order\": syntax error",
      "\nDuring handling of the above exception, another exception occurred:\n",
      "\u001b[0;31mDatabaseError\u001b[0m                             Traceback (most recent call last)",
      "\u001b[0;32m<ipython-input-35-09d343ae3fda>\u001b[0m in \u001b[0;36m<module>\u001b[0;34m()\u001b[0m\n\u001b[1;32m      5\u001b[0m \"\"\"\n\u001b[1;32m      6\u001b[0m \u001b[0;34m\u001b[0m\u001b[0m\n\u001b[0;32m----> 7\u001b[0;31m \u001b[0mfood_sells\u001b[0m \u001b[0;34m=\u001b[0m \u001b[0mpd\u001b[0m\u001b[0;34m.\u001b[0m\u001b[0mread_sql_query\u001b[0m\u001b[0;34m(\u001b[0m\u001b[0msql_query\u001b[0m\u001b[0;34m,\u001b[0m\u001b[0mconn3\u001b[0m\u001b[0;34m)\u001b[0m\u001b[0;34m\u001b[0m\u001b[0m\n\u001b[0m\u001b[1;32m      8\u001b[0m \u001b[0mfood_sells\u001b[0m\u001b[0;34m\u001b[0m\u001b[0m\n\u001b[1;32m      9\u001b[0m \u001b[0;34m\u001b[0m\u001b[0m\n",
      "\u001b[0;32m/Library/Frameworks/Python.framework/Versions/3.6/lib/python3.6/site-packages/pandas/io/sql.py\u001b[0m in \u001b[0;36mread_sql_query\u001b[0;34m(sql, con, index_col, coerce_float, params, parse_dates, chunksize)\u001b[0m\n\u001b[1;32m    330\u001b[0m     return pandas_sql.read_query(\n\u001b[1;32m    331\u001b[0m         \u001b[0msql\u001b[0m\u001b[0;34m,\u001b[0m \u001b[0mindex_col\u001b[0m\u001b[0;34m=\u001b[0m\u001b[0mindex_col\u001b[0m\u001b[0;34m,\u001b[0m \u001b[0mparams\u001b[0m\u001b[0;34m=\u001b[0m\u001b[0mparams\u001b[0m\u001b[0;34m,\u001b[0m \u001b[0mcoerce_float\u001b[0m\u001b[0;34m=\u001b[0m\u001b[0mcoerce_float\u001b[0m\u001b[0;34m,\u001b[0m\u001b[0;34m\u001b[0m\u001b[0m\n\u001b[0;32m--> 332\u001b[0;31m         parse_dates=parse_dates, chunksize=chunksize)\n\u001b[0m\u001b[1;32m    333\u001b[0m \u001b[0;34m\u001b[0m\u001b[0m\n\u001b[1;32m    334\u001b[0m \u001b[0;34m\u001b[0m\u001b[0m\n",
      "\u001b[0;32m/Library/Frameworks/Python.framework/Versions/3.6/lib/python3.6/site-packages/pandas/io/sql.py\u001b[0m in \u001b[0;36mread_query\u001b[0;34m(self, sql, index_col, coerce_float, params, parse_dates, chunksize)\u001b[0m\n\u001b[1;32m   1442\u001b[0m \u001b[0;34m\u001b[0m\u001b[0m\n\u001b[1;32m   1443\u001b[0m         \u001b[0margs\u001b[0m \u001b[0;34m=\u001b[0m \u001b[0m_convert_params\u001b[0m\u001b[0;34m(\u001b[0m\u001b[0msql\u001b[0m\u001b[0;34m,\u001b[0m \u001b[0mparams\u001b[0m\u001b[0;34m)\u001b[0m\u001b[0;34m\u001b[0m\u001b[0m\n\u001b[0;32m-> 1444\u001b[0;31m         \u001b[0mcursor\u001b[0m \u001b[0;34m=\u001b[0m \u001b[0mself\u001b[0m\u001b[0;34m.\u001b[0m\u001b[0mexecute\u001b[0m\u001b[0;34m(\u001b[0m\u001b[0;34m*\u001b[0m\u001b[0margs\u001b[0m\u001b[0;34m)\u001b[0m\u001b[0;34m\u001b[0m\u001b[0m\n\u001b[0m\u001b[1;32m   1445\u001b[0m         \u001b[0mcolumns\u001b[0m \u001b[0;34m=\u001b[0m \u001b[0;34m[\u001b[0m\u001b[0mcol_desc\u001b[0m\u001b[0;34m[\u001b[0m\u001b[0;36m0\u001b[0m\u001b[0;34m]\u001b[0m \u001b[0;32mfor\u001b[0m \u001b[0mcol_desc\u001b[0m \u001b[0;32min\u001b[0m \u001b[0mcursor\u001b[0m\u001b[0;34m.\u001b[0m\u001b[0mdescription\u001b[0m\u001b[0;34m]\u001b[0m\u001b[0;34m\u001b[0m\u001b[0m\n\u001b[1;32m   1446\u001b[0m \u001b[0;34m\u001b[0m\u001b[0m\n",
      "\u001b[0;32m/Library/Frameworks/Python.framework/Versions/3.6/lib/python3.6/site-packages/pandas/io/sql.py\u001b[0m in \u001b[0;36mexecute\u001b[0;34m(self, *args, **kwargs)\u001b[0m\n\u001b[1;32m   1419\u001b[0m             ex = DatabaseError(\n\u001b[1;32m   1420\u001b[0m                 \"Execution failed on sql '%s': %s\" % (args[0], exc))\n\u001b[0;32m-> 1421\u001b[0;31m             \u001b[0mraise_with_traceback\u001b[0m\u001b[0;34m(\u001b[0m\u001b[0mex\u001b[0m\u001b[0;34m)\u001b[0m\u001b[0;34m\u001b[0m\u001b[0m\n\u001b[0m\u001b[1;32m   1422\u001b[0m \u001b[0;34m\u001b[0m\u001b[0m\n\u001b[1;32m   1423\u001b[0m     \u001b[0;34m@\u001b[0m\u001b[0mstaticmethod\u001b[0m\u001b[0;34m\u001b[0m\u001b[0m\n",
      "\u001b[0;32m/Library/Frameworks/Python.framework/Versions/3.6/lib/python3.6/site-packages/pandas/compat/__init__.py\u001b[0m in \u001b[0;36mraise_with_traceback\u001b[0;34m(exc, traceback)\u001b[0m\n\u001b[1;32m    383\u001b[0m         \u001b[0;32mif\u001b[0m \u001b[0mtraceback\u001b[0m \u001b[0;34m==\u001b[0m \u001b[0mEllipsis\u001b[0m\u001b[0;34m:\u001b[0m\u001b[0;34m\u001b[0m\u001b[0m\n\u001b[1;32m    384\u001b[0m             \u001b[0m_\u001b[0m\u001b[0;34m,\u001b[0m \u001b[0m_\u001b[0m\u001b[0;34m,\u001b[0m \u001b[0mtraceback\u001b[0m \u001b[0;34m=\u001b[0m \u001b[0msys\u001b[0m\u001b[0;34m.\u001b[0m\u001b[0mexc_info\u001b[0m\u001b[0;34m(\u001b[0m\u001b[0;34m)\u001b[0m\u001b[0;34m\u001b[0m\u001b[0m\n\u001b[0;32m--> 385\u001b[0;31m         \u001b[0;32mraise\u001b[0m \u001b[0mexc\u001b[0m\u001b[0;34m.\u001b[0m\u001b[0mwith_traceback\u001b[0m\u001b[0;34m(\u001b[0m\u001b[0mtraceback\u001b[0m\u001b[0;34m)\u001b[0m\u001b[0;34m\u001b[0m\u001b[0m\n\u001b[0m\u001b[1;32m    386\u001b[0m \u001b[0;32melse\u001b[0m\u001b[0;34m:\u001b[0m\u001b[0;34m\u001b[0m\u001b[0m\n\u001b[1;32m    387\u001b[0m     \u001b[0;31m# this version of raise is a syntax error in Python 3\u001b[0m\u001b[0;34m\u001b[0m\u001b[0;34m\u001b[0m\u001b[0m\n",
      "\u001b[0;32m/Library/Frameworks/Python.framework/Versions/3.6/lib/python3.6/site-packages/pandas/io/sql.py\u001b[0m in \u001b[0;36mexecute\u001b[0;34m(self, *args, **kwargs)\u001b[0m\n\u001b[1;32m   1407\u001b[0m                 \u001b[0mcur\u001b[0m\u001b[0;34m.\u001b[0m\u001b[0mexecute\u001b[0m\u001b[0;34m(\u001b[0m\u001b[0;34m*\u001b[0m\u001b[0margs\u001b[0m\u001b[0;34m,\u001b[0m \u001b[0;34m**\u001b[0m\u001b[0mkwargs\u001b[0m\u001b[0;34m)\u001b[0m\u001b[0;34m\u001b[0m\u001b[0m\n\u001b[1;32m   1408\u001b[0m             \u001b[0;32melse\u001b[0m\u001b[0;34m:\u001b[0m\u001b[0;34m\u001b[0m\u001b[0m\n\u001b[0;32m-> 1409\u001b[0;31m                 \u001b[0mcur\u001b[0m\u001b[0;34m.\u001b[0m\u001b[0mexecute\u001b[0m\u001b[0;34m(\u001b[0m\u001b[0;34m*\u001b[0m\u001b[0margs\u001b[0m\u001b[0;34m)\u001b[0m\u001b[0;34m\u001b[0m\u001b[0m\n\u001b[0m\u001b[1;32m   1410\u001b[0m             \u001b[0;32mreturn\u001b[0m \u001b[0mcur\u001b[0m\u001b[0;34m\u001b[0m\u001b[0m\n\u001b[1;32m   1411\u001b[0m         \u001b[0;32mexcept\u001b[0m \u001b[0mException\u001b[0m \u001b[0;32mas\u001b[0m \u001b[0mexc\u001b[0m\u001b[0;34m:\u001b[0m\u001b[0;34m\u001b[0m\u001b[0m\n",
      "\u001b[0;31mDatabaseError\u001b[0m: Execution failed on sql ' \nselect permit, Applicant, \ncount(\"Applicant\") as 'Num of Locations' from mobile_food_permits, \norder by count(\"Applicant\") desc\n': near \"order\": syntax error"
     ]
    }
   ],
   "source": [
    "sql_query = \"\"\" \n",
    "select permit, Applicant, \n",
    "count(\"Applicant\") as 'Num of Locations' from mobile_food_permits, \n",
    "order by count(\"Applicant\") desc\n",
    "\"\"\"\n",
    "\n",
    "food_sells = pd.read_sql_query(sql_query,conn3)\n",
    "food_sells\n",
    "\n",
    "# \"SELECT COUNT(mobile_food_schedule.locationid),\n",
    "# mobile_food_schedule.permit,\n",
    "# mobile_food_permits.Applicant FROM 'mobile_food_schedule',\n",
    "# 'mobile_food_permits' WHERE mobile_food_permits.permit = mobile_food_schedule.permit \n",
    "# GROUP BY mobile_food_schedule.permit \n",
    "# ORDER BY COUNT(locationid) DESC\""
   ]
  },
  {
   "cell_type": "markdown",
   "metadata": {
    "class": "ex",
    "exercise": "1.2",
    "points": "40"
   },
   "source": [
    "__Exercise 1.2.__ (40 pts) Ask and use the database to analyze 5 questions about San Francisco. For each question, write at least 150 words and support your answer with plots. Make a map for at least 2 of the 5 questions.\n",
    "\n",
    "You should try to come up with some questions on your own, but these are examples of reasonable questions:\n",
    "\n",
    "* Which parts of the city are the most and least expensive?\n",
    "* Which parts of the city are the most dangerous (and at what times)?\n",
    "* Are noise complaints and mobile food vendors related?\n",
    "* What are the best times and places to find food trucks?\n",
    "* Is there a relationship between housing prices and any of the other tables?\n",
    "\n",
    "Please make sure to clearly state each of your questions in your submission."
   ]
  },
  {
   "cell_type": "code",
   "execution_count": null,
   "metadata": {},
   "outputs": [],
   "source": []
  }
 ],
 "metadata": {
  "kernelspec": {
   "display_name": "Python 3",
   "language": "python",
   "name": "python3"
  },
  "language_info": {
   "codemirror_mode": {
    "name": "ipython",
    "version": 3
   },
   "file_extension": ".py",
   "mimetype": "text/x-python",
   "name": "python",
   "nbconvert_exporter": "python",
   "pygments_lexer": "ipython3",
   "version": "3.6.1"
  }
 },
 "nbformat": 4,
 "nbformat_minor": 2
}
